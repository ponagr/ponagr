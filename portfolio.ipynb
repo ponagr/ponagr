{
 "cells": [
  {
   "cell_type": "markdown",
   "metadata": {},
   "source": [
    "# Pontus Ågren Grundström\n",
    "\n",
    "about me/introduction\n",
    "\n",
    "## Check out my github portfolio :briefcase:\n",
    "\n",
    "| Repository                            | Course                  | Description                                                              | Skills |\n",
    "| ------------------------------------- | ----------------------- | ------------------------------------------------------------------------ | ------ |\n",
    "| [Data warehouse lifecycle][dwh]       | OOP Intro / OOP grund   | Learned the basics of object-oriented programming (OOP): encapsulation, inheritance, polymorphism, and generics. Gained experience in error handling, console/file system, UI creation, and version control.            | C#, OOP, Git |\n",
    "| [Data platform course][data_platform] | Databaser               |  Designed, created, and managed relational databases using SQL. Learned data modeling, normalization, and CRUD operations.       | SQL, Dapper, Data Modeling |\n",
    "| | Agil Projektledning | Studied Scrum and Kanban; learned to manage project structures, roles (Scrum Master, Developer, Product Owner), and team planning. | Scrum, Kanban, GitHub-Projects |\n",
    "| [Data modeling course][model]         | AI 1 - Python           | Developed Python skills, working with file handling, virtual enviornments, NumPy, Pandas, and Matplotlib. Focused on data cleaning, preparation, visualization, data storytelling, dashboards and KPIs.     | Python, Pandas, Matplotlib, NumPy, Streamlit |\n",
    "| [Data engineering][data_eng]          | AI 2 - Data Engineering (ongoing) | Studying ETL/ELT processes, data pipelines, and transformations. Learning regression, classification, clustering, and working with DLT, DBT Core, Docker and TensorFlow.                        | DuckDB, Data Warehouse, Data Pipelines, APIs, Snowflake, Docker, LLMs |\n",
    "| | OOP avancerad 1 (upcoming) | HT 2025 | |\n",
    "| | LIA 1 (upcoming) | 2025-10-13 -> 2025-12-12 | |\n",
    "| | OOP avancerad 2 (upcoming) | VT 2026 | |\n",
    "| | LIA 2 (upcoming) | 2026-02-16 -> 2026-05-22 | |\n",
    "\n",
    "\n",
    "Länkar:\n",
    "[data_platform]: https://github.com/AIgineerAB/data_platform_course\n",
    "[model]: https://github.com/AIgineerAB/data_modeling_course\n",
    "[dwh]: https://github.com/AIgineerAB/data_warehouse_course\n",
    "[data_eng]: https://github.com/kokchun/Data-engineering-AI22\n",
    "[dl]: https://github.com/kokchun/Deep-learning-AI21\n",
    "[ml]: https://github.com/kokchun/Machine-learning-AI22\n",
    "[pytprog]: https://github.com/kokchun/Python-course-AI22\n",
    "[data_analysis]: https://github.com/kokchun/Databehandling-AI22\n",
    "[prog1]: https://github.com/NTI-Kronhus/TE19CD-PRRPRR01\n",
    "[lin_alg]: https://github.com/kokchun/Linjar-algebra-21\n",
    "\n",
    "# Tech Stack:\n",
    "IN MED IKONER SOM DANIEL\n",
    "\n",
    "## Contact me :iphone:\n",
    "\n",
    "- [![linkedIn icon](assets/linkedIn-icon.png): LinkedIn][linkedin]\n",
    "\n",
    "[linkedin]: https://www.linkedin.com/in/ponagr/"
   ]
  }
 ],
 "metadata": {
  "language_info": {
   "name": "python"
  }
 },
 "nbformat": 4,
 "nbformat_minor": 2
}
